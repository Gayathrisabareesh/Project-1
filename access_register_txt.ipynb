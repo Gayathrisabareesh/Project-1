{
  "nbformat": 4,
  "nbformat_minor": 0,
  "metadata": {
    "colab": {
      "name": "access_register.txt",
      "provenance": [],
      "collapsed_sections": [],
      "authorship_tag": "ABX9TyO1lrQeaVNQobYmNx4OkI0m",
      "include_colab_link": true
    },
    "kernelspec": {
      "name": "python3",
      "display_name": "Python 3"
    },
    "language_info": {
      "name": "python"
    }
  },
  "cells": [
    {
      "cell_type": "markdown",
      "metadata": {
        "id": "view-in-github",
        "colab_type": "text"
      },
      "source": [
        "<a href=\"https://colab.research.google.com/github/Gayathrisabareesh/Project-1/blob/main/access_register_txt.ipynb\" target=\"_parent\"><img src=\"https://colab.research.google.com/assets/colab-badge.svg\" alt=\"Open In Colab\"/></a>"
      ]
    },
    {
      "cell_type": "code",
      "execution_count": null,
      "metadata": {
        "id": "l6chhAGM_0N7"
      },
      "outputs": [],
      "source": [
        "dakshya@gmail.com,Anjali@123\n",
        "anjali@yahoo.in,Dtyagi@123\n",
        "rahul@gmail.com,Rahul@234\n"
      ]
    }
  ]
}